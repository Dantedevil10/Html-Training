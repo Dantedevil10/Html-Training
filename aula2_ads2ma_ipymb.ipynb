{
  "nbformat": 4,
  "nbformat_minor": 0,
  "metadata": {
    "colab": {
      "provenance": [],
      "authorship_tag": "ABX9TyOJBPAMTwX976qxJfR/g6Zr",
      "include_colab_link": true
    },
    "kernelspec": {
      "name": "python3",
      "display_name": "Python 3"
    },
    "language_info": {
      "name": "python"
    }
  },
  "cells": [
    {
      "cell_type": "markdown",
      "metadata": {
        "id": "view-in-github",
        "colab_type": "text"
      },
      "source": [
        "<a href=\"https://colab.research.google.com/github/Dantedevil10/Html-Projects/blob/main/aula2_ads2ma_ipymb.ipynb\" target=\"_parent\"><img src=\"https://colab.research.google.com/assets/colab-badge.svg\" alt=\"Open In Colab\"/></a>"
      ]
    },
    {
      "cell_type": "code",
      "execution_count": 1,
      "metadata": {
        "colab": {
          "base_uri": "https://localhost:8080/"
        },
        "id": "hRUuhxo6dE33",
        "outputId": "98b22e42-aa3a-4659-a56b-8df68a34c558"
      },
      "outputs": [
        {
          "output_type": "execute_result",
          "data": {
            "text/plain": [
              "15"
            ]
          },
          "metadata": {},
          "execution_count": 1
        }
      ],
      "source": [
        "# UNINASSAU\n",
        "# Docente: Prof. MSc. Cloves\n",
        "# Tópicos: Python básico ao intermediario\n",
        "\n",
        "#3. Operadores Aritiméticos -- Python\n",
        "\n",
        "a = 10\n",
        "b = 5\n",
        "a + b\n"
      ]
    },
    {
      "cell_type": "code",
      "source": [
        "# 5. operadores Relacionais Compostos.\n",
        "\n",
        "#nota1 = 7\n",
        "#nota2 = 6\n",
        "#print(nota1 >= nota2)\n",
        "\n",
        "nota1 = 7\n",
        "nota2 = 6\n",
        "print(nota1 != nota2)"
      ],
      "metadata": {
        "colab": {
          "base_uri": "https://localhost:8080/"
        },
        "id": "0o84vgZ1vmNE",
        "outputId": "87cdc234-06d3-46c2-cca8-82c8cf8068ee"
      },
      "execution_count": 3,
      "outputs": [
        {
          "output_type": "stream",
          "name": "stdout",
          "text": [
            "True\n"
          ]
        }
      ]
    },
    {
      "cell_type": "code",
      "source": [
        "# Função Input().\n",
        "\n",
        "\n",
        "print('Olá ADS 2MA')\n",
        "nome = input('Digite o Seu Nome: ')\n",
        "print('Seu Nome è:' + nome)"
      ],
      "metadata": {
        "id": "E0i9x99mv38Z"
      },
      "execution_count": null,
      "outputs": []
    }
  ]
}