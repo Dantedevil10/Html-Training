{
  "nbformat": 4,
  "nbformat_minor": 0,
  "metadata": {
    "colab": {
      "provenance": [],
      "authorship_tag": "ABX9TyOd04lKGdbSoESIahN/06tF",
      "include_colab_link": true
    },
    "kernelspec": {
      "name": "python3",
      "display_name": "Python 3"
    },
    "language_info": {
      "name": "python"
    }
  },
  "cells": [
    {
      "cell_type": "markdown",
      "metadata": {
        "id": "view-in-github",
        "colab_type": "text"
      },
      "source": [
        "<a href=\"https://colab.research.google.com/github/Dantedevil10/Html-Projects/blob/main/aula2_ads2ma_ipymb.ipynb\" target=\"_parent\"><img src=\"https://colab.research.google.com/assets/colab-badge.svg\" alt=\"Open In Colab\"/></a>"
      ]
    },
    {
      "cell_type": "code",
      "execution_count": 1,
      "metadata": {
        "colab": {
          "base_uri": "https://localhost:8080/"
        },
        "id": "hRUuhxo6dE33",
        "outputId": "98b22e42-aa3a-4659-a56b-8df68a34c558"
      },
      "outputs": [
        {
          "output_type": "execute_result",
          "data": {
            "text/plain": [
              "15"
            ]
          },
          "metadata": {},
          "execution_count": 1
        }
      ],
      "source": [
        "# UNINASSAU\n",
        "# Docente: Prof. MSc. Cloves\n",
        "# Tópicos: Python básico ao intermediario\n",
        "\n",
        "#3. Operadores Aritiméticos -- Python\n",
        "\n",
        "a = 10\n",
        "b = 5\n",
        "a + b\n"
      ]
    },
    {
      "cell_type": "code",
      "source": [
        "# 5. operadores Relacionais Compostos.\n",
        "\n",
        "#nota1 = 7\n",
        "#nota2 = 6\n",
        "#print(nota1 >= nota2)\n",
        "\n",
        "nota1 = 7\n",
        "nota2 = 6\n",
        "print(nota1 != nota2)"
      ],
      "metadata": {
        "colab": {
          "base_uri": "https://localhost:8080/"
        },
        "id": "0o84vgZ1vmNE",
        "outputId": "87cdc234-06d3-46c2-cca8-82c8cf8068ee"
      },
      "execution_count": 3,
      "outputs": [
        {
          "output_type": "stream",
          "name": "stdout",
          "text": [
            "True\n"
          ]
        }
      ]
    },
    {
      "cell_type": "code",
      "source": [
        "# Função Input().\n",
        "\n",
        "\n",
        "#print('Olá ADS 2MA')\n",
        "#nome = input('Digite o Seu Nome: ')\n",
        "#print('Seu Nome è:' + nome)\n",
        "\n",
        "idade = int (input('Digite sua Idade: '))\n",
        "print(f'Voce tem {idade} anos')\n",
        ""
      ],
      "metadata": {
        "id": "E0i9x99mv38Z"
      },
      "execution_count": null,
      "outputs": []
    },
    {
      "cell_type": "code",
      "source": [
        "#8. Estrutura Condicional.\n",
        "\n",
        "numero = int(input('Digite um Número: '))\n",
        "if numero % 2 == 0:\n",
        "  print(f'O Número {numero} é par.')\n",
        "else:\n",
        "  print(f'O Número {numero} é Impar.')\n"
      ],
      "metadata": {
        "id": "VzExxJqt1V-w"
      },
      "execution_count": null,
      "outputs": []
    },
    {
      "cell_type": "code",
      "source": [
        "#9. Estruturas Condicionais Aninhadas e o elif.\n",
        "\n",
        "num = float(input('Digite um Número: '))\n",
        "\n",
        "if num > 0:\n",
        "  print('Este Número é Positivo.')\n",
        "elif num == 0:\n",
        "  print('Este Número é Neutro.')\n",
        "else:\n",
        "  print('Este Número é Negativo.')"
      ],
      "metadata": {
        "id": "dsQQ16pH27SQ"
      },
      "execution_count": null,
      "outputs": []
    },
    {
      "cell_type": "code",
      "source": [
        "#10. Operadores Lógicos:\n",
        "# and ; or ; not ;Função range()\n",
        "#e os Operadores in ; not in.\n",
        "resposta = int(input('Qual é a sua idade: '))\n",
        "if resposta >= 18 and resposta <= 65:\n",
        "  print('Você é obrigado a Votar!')\n",
        "else:\n",
        "  print('Tu é Véi!')"
      ],
      "metadata": {
        "id": "UghuGDxU6Szf"
      },
      "execution_count": null,
      "outputs": []
    },
    {
      "cell_type": "code",
      "source": [
        "print('1. Idoso')\n",
        "print('2. Gestante')\n",
        "print('3. Cadeirante')\n",
        "print('4. Comum')\n",
        "resposta = int(input('Tu é ? '))\n",
        "if (resposta == 1 ) or (resposta == 2) or (resposta == 3):\n",
        "  print('Você tem Direito a fila Prioritaria')\n",
        "else:\n",
        "  print('annnnnnnnn')"
      ],
      "metadata": {
        "id": "VetZMEOn80_m"
      },
      "execution_count": null,
      "outputs": []
    },
    {
      "cell_type": "code",
      "source": [
        "#11. Operador not\n",
        "#a = int (input())\n",
        "#b = int (input())\n",
        "#print(not a > b)\n",
        "a = 4\n",
        "b = 2\n",
        "print(not a > b)"
      ],
      "metadata": {
        "colab": {
          "base_uri": "https://localhost:8080/"
        },
        "id": "uUIZQA9Z_IYK",
        "outputId": "420ab332-945c-4a5e-ffa2-09b55ff455a2"
      },
      "execution_count": 36,
      "outputs": [
        {
          "output_type": "stream",
          "name": "stdout",
          "text": [
            "False\n"
          ]
        }
      ]
    },
    {
      "cell_type": "code",
      "source": [
        "banda = str(input('Qual melhor banda do mundo?'))\n",
        "if not banda=='LP':\n",
        " print('errado')\n",
        "else:\n",
        "  print('Certo')"
      ],
      "metadata": {
        "id": "CjfC51eK_6Hn"
      },
      "execution_count": null,
      "outputs": []
    },
    {
      "cell_type": "code",
      "source": [
        "r = int(input('Digite um Numero: '))\n",
        "if r in range(1, 300):\n",
        "  print(f'{r} está entre 1 a 300')\n",
        "else:\n",
        "  print(f'não está entre 1 e 300')"
      ],
      "metadata": {
        "id": "LzVeC-UvBLNa"
      },
      "execution_count": null,
      "outputs": []
    },
    {
      "cell_type": "code",
      "source": [
        "#11. Um pouco de algebra linear\n",
        "imc = [181,#altura\n",
        "       100,#peso\n",
        "       40] #idade\n",
        "print(imc)\n",
        "#exercicio imc : divide se o peso (em kg) pelo quadrado da altura em (metros)\n"
      ],
      "metadata": {
        "colab": {
          "base_uri": "https://localhost:8080/"
        },
        "id": "1vT6hnVyCnYi",
        "outputId": "8ef60e5d-deb3-43a5-ec5d-4dce5eaab170"
      },
      "execution_count": 59,
      "outputs": [
        {
          "output_type": "stream",
          "name": "stdout",
          "text": [
            "[181, 100, 40]\n"
          ]
        }
      ]
    },
    {
      "cell_type": "code",
      "source": [
        "notas = [10, #nota1\n",
        "         9, #nota2\n",
        "         8,] #nota3\n",
        "print(notas)"
      ],
      "metadata": {
        "colab": {
          "base_uri": "https://localhost:8080/"
        },
        "id": "mKokRm_4Dwdf",
        "outputId": "9047cd95-0433-43b5-ec99-575c1b38ee19"
      },
      "execution_count": 62,
      "outputs": [
        {
          "output_type": "stream",
          "name": "stdout",
          "text": [
            "[10, 9, 8]\n"
          ]
        }
      ]
    }
  ]
}